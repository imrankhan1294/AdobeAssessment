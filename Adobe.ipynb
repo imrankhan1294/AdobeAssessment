{
	"metadata": {
		"kernelspec": {
			"name": "glue_pyspark",
			"display_name": "Glue PySpark",
			"language": "python"
		},
		"language_info": {
			"name": "Python_Glue_Session",
			"mimetype": "text/x-python",
			"codemirror_mode": {
				"name": "python",
				"version": 3
			},
			"pygments_lexer": "python3",
			"file_extension": ".py"
		}
	},
	"nbformat_minor": 4,
	"nbformat": 4,
	"cells": [
		{
			"cell_type": "markdown",
			"source": "####  Run this cell to set up and start your interactive session.\n",
			"metadata": {
				"editable": true,
				"trusted": true
			}
		},
		{
			"cell_type": "code",
			"source": "%idle_timeout 2880\n%glue_version 3.0\n%worker_type G.1X\n%number_of_workers 5\n\nimport sys\nfrom awsglue.transforms import *\nfrom awsglue.utils import getResolvedOptions\nfrom pyspark.context import SparkContext\nfrom awsglue.context import GlueContext\nfrom awsglue.job import Job\n  \nsc = SparkContext.getOrCreate()\nglueContext = GlueContext(sc)\nspark = glueContext.spark_session\njob = Job(glueContext)",
			"metadata": {
				"editable": true,
				"trusted": true
			},
			"execution_count": 1,
			"outputs": [
				{
					"name": "stdout",
					"text": "Welcome to the Glue Interactive Sessions Kernel\nFor more information on available magic commands, please type %help in any new cell.\n\nPlease view our Getting Started page to access the most up-to-date information on the Interactive Sessions kernel: https://docs.aws.amazon.com/glue/latest/dg/interactive-sessions.html\nInstalled kernel version: 0.37.0 \nCurrent idle_timeout is 2800 minutes.\nidle_timeout has been set to 2880 minutes.\nSetting Glue version to: 3.0\nPrevious worker type: G.1X\nSetting new worker type to: G.1X\nPrevious number of workers: 5\nSetting new number of workers to: 5\nAuthenticating with environment variables and user-defined glue_role_arn: arn:aws:iam::343278755431:role/GlueRole\nTrying to create a Glue session for the kernel.\nWorker Type: G.1X\nNumber of Workers: 5\nSession ID: df6870ec-dd66-44de-96b7-d1db8b993713\nJob Type: glueetl\nApplying the following default arguments:\n--glue_kernel_version 0.37.0\n--enable-glue-datacatalog true\nWaiting for session df6870ec-dd66-44de-96b7-d1db8b993713 to get into ready status...\nSession df6870ec-dd66-44de-96b7-d1db8b993713 has been created.\n\n",
					"output_type": "stream"
				}
			]
		},
		{
			"cell_type": "code",
			"source": "hits_df = spark.read.format(\"csv\").option(\"delimiter\",\"\\t\").option(\"header\", True).load(\"s3://hit-details/data1.tsv\")\n\ndef find_top_ref(df, hit_time_gmt, user_agent, ip, page_url):\n    # Find the topmost record by recursively finding the record with a NULL referrer\n    topmost = df.filter((col(\"hit_time_gmt\") <= hit_time_gmt) & (col(\"user_agent\") == user_agent) & (col(\"ip\") == ip) & (col(\"page_url\") == page_url)).select(\"hit_time_gmt\", \"user_agent\", \"ip\", \"page_url\", \"referrer\")\n    referrer = df.filter((col(\"hit_time_gmt\") <= hit_time_gmt) & (col(\"user_agent\") == user_agent) & (col(\"ip\") == ip) & (col(\"page_url\") == page_url)).select(\"referrer\").collect()[0][0]\n    \n    if 'esshopzilla' not in referrer:\n        print(\"False\")\n    if referrer is not None:\n        if 'esshopzilla' not in referrer:\n            return topmost\n        else:\n            topmost = find_top(df,hit_time_gmt, user_agent, ip, referrer)\n    \n    # Return the topmost record\n    return topmost\n    \n    \n\n#Call the recursive function to find the topmost and bottommost records for each parent-child relationship\nresult = hits_df.filter(\"pagename=='Order Complete'\").select(\"hit_time_gmt\", \"user_agent\", \"ip\", \"page_url\", \"referrer\", \"product_list\",   \"pagename\").rdd.flatMap(lambda row: find_top(hits_df, row[0], row[1], row[2], row[3])).toDF()\nresult.show()\n\n",
			"metadata": {},
			"execution_count": null,
			"outputs": []
		}
	]
}