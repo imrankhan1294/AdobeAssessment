{
	"metadata": {
		"kernelspec": {
			"name": "glue_pyspark",
			"display_name": "Glue PySpark",
			"language": "python"
		},
		"language_info": {
			"name": "Python_Glue_Session",
			"mimetype": "text/x-python",
			"codemirror_mode": {
				"name": "python",
				"version": 3
			},
			"pygments_lexer": "python3",
			"file_extension": ".py"
		}
	},
	"nbformat_minor": 4,
	"nbformat": 4,
	"cells": [
		{
			"cell_type": "code",
			"source": "%idle_timeout 2880\n%glue_version 3.0\n%worker_type G.1X\n%number_of_workers 5\n\nimport sys\nfrom datetime import datetime\nfrom awsglue.transforms import *\nfrom awsglue.utils import getResolvedOptions\nfrom pyspark.context import SparkContext\nfrom awsglue.context import GlueContext\nfrom awsglue.job import Job\nfrom pyspark.sql.functions import *\nfrom pyspark.sql.types import *\nfrom datetime import datetime\n\n  \nsc = SparkContext.getOrCreate()\nglueContext = GlueContext(sc)\nspark = glueContext.spark_session\njob = Job(glueContext)\n",
			"metadata": {
				"editable": true,
				"trusted": true
			},
			"execution_count": 7,
			"outputs": [
				{
					"name": "stderr",
					"text": "You are already connected to a glueetl session 8a37a81d-8688-47f4-8760-040cf73fca9f.\n\nNo change will be made to the current session that is set as glueetl. The session configuration change will apply to newly created sessions.\n",
					"output_type": "stream"
				},
				{
					"name": "stdout",
					"text": "Current idle_timeout is 2880 minutes.\nidle_timeout has been set to 2880 minutes.\n",
					"output_type": "stream"
				},
				{
					"name": "stderr",
					"text": "You are already connected to a glueetl session 8a37a81d-8688-47f4-8760-040cf73fca9f.\n\nNo change will be made to the current session that is set as glueetl. The session configuration change will apply to newly created sessions.\n",
					"output_type": "stream"
				},
				{
					"name": "stdout",
					"text": "Setting Glue version to: 3.0\n",
					"output_type": "stream"
				},
				{
					"name": "stderr",
					"text": "You are already connected to a glueetl session 8a37a81d-8688-47f4-8760-040cf73fca9f.\n\nNo change will be made to the current session that is set as glueetl. The session configuration change will apply to newly created sessions.\n",
					"output_type": "stream"
				},
				{
					"name": "stdout",
					"text": "Previous worker type: G.1X\nSetting new worker type to: G.1X\n",
					"output_type": "stream"
				},
				{
					"name": "stderr",
					"text": "You are already connected to a glueetl session 8a37a81d-8688-47f4-8760-040cf73fca9f.\n\nNo change will be made to the current session that is set as glueetl. The session configuration change will apply to newly created sessions.\n",
					"output_type": "stream"
				},
				{
					"name": "stdout",
					"text": "Previous number of workers: 5\nSetting new number of workers to: 5\n\n",
					"output_type": "stream"
				}
			]
		},
		{
			"cell_type": "code",
			"source": "args = getResolvedOptions(sys.argv, ['input_file','output_file'])\ndate_str = datetime.today().strftime('%Y-%m-%d')\ninput_file = args['input_file']\noutput_file = f\"s3://hit-details/output/{date_str}_SearchKeywordPerformance.tab\"",
			"metadata": {
				"trusted": true
			},
			"execution_count": 8,
			"outputs": [
				{
					"name": "stdout",
					"text": "GlueArgumentError: the following arguments are required: --input_file, --output_file\n",
					"output_type": "stream"
				}
			]
		},
		{
			"cell_type": "code",
			"source": "hits_df=spark.read.format(\"csv\").option(\"delimiter\",\"\\t\").option(\"header\", True).load(input_file)\n\ndef find_top_ref(df, hit_time_gmt, user_agent, ip, page_url):\n    referrer_list = hits_df.filter((col(\"hit_time_gmt\") <= hit_time_gmt) & (col(\"user_agent\") == user_agent) & (col(\"ip\") == ip) & (col(\"page_url\") == page_url)).select(\"referrer\").collect()\n    referrer=\"\"\n    if len(referrer_list)>0:\n        if len(referrer_list[0])>0:\n            referrer=referrer_list[0][0]\n    if referrer is not None:\n        if 'esshopzilla' not in referrer:\n            return referrer\n        else:\n            return find_top_ref(df,hit_time_gmt, user_agent, ip, referrer)\n    return referrer",
			"metadata": {
				"trusted": true
			},
			"execution_count": null,
			"outputs": [
				{
					"name": "stdout",
					"text": "\n",
					"output_type": "stream"
				}
			]
		},
		{
			"cell_type": "code",
			"source": "order_df = hits_df.filter(\"pagename=='Order Complete'\")\nresult_dict = []\nfor order in order_df.collect():\n    result=find_top_ref(hits_df, order['hit_time_gmt'], order['user_agent'], order['ip'], order['page_url'])\n    if result and 'esshopzilla' not in result:\n        url = result.split(\".com\")[0].split(\".\")[-1] + \".com\"\n        keyword = result.split(\"?\")[-1].split(\"q=\")[1].split(\"&\")[0]\n        revenue=int(order['product_list'].split(\";\")[2]) * int(order['product_list'].split(\";\")[3])\n        result_dict.append({\"Search Engine Domain\": url, \"Search Keyword\":keyword, \"Revenue\": revenue})\nfinal_df=sc.parallelize(result_dict).toDF()\nfinal_df=final_df.groupBy(\"Search Engine Domain\",\"Search Keyword\").agg(sum(\"Revenue\").alias(\"Revenue\"))\nfinal_df = final_df.coalesce(1)",
			"metadata": {
				"trusted": true
			},
			"execution_count": 6,
			"outputs": [
				{
					"name": "stdout",
					"text": "\n",
					"output_type": "stream"
				}
			]
		},
		{
			"cell_type": "code",
			"source": "final_df.write.mode(\"overwrite\").format(\"csv\").option(\"delimiter\", \"\\t\").option(\"header\", True).save(output_file)",
			"metadata": {
				"trusted": true
			},
			"execution_count": null,
			"outputs": []
		},
		{
			"cell_type": "code",
			"source": "",
			"metadata": {},
			"execution_count": null,
			"outputs": []
		}
	]
}